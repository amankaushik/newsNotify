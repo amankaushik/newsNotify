{
 "cells": [
  {
   "cell_type": "code",
   "execution_count": 1,
   "metadata": {
    "collapsed": false
   },
   "outputs": [
    {
     "name": "stdout",
     "output_type": "stream",
     "text": [
      "{'__doc__': 'Automatically created module for IPython interactive environment', '_ih': ['', 'print (globals())'], '__builtin__': <module 'builtins' (built-in)>, 'get_ipython': <bound method ZMQInteractiveShell.get_ipython of <ipykernel.zmqshell.ZMQInteractiveShell object at 0x7f2cc2295a20>>, '__loader__': None, '_oh': {}, '__spec__': None, 'In': ['', 'print (globals())'], '__': '', 'exit': <IPython.core.autocall.ZMQExitAutocall object at 0x7f2cc1ce1c50>, '__name__': '__main__', '_i1': 'print (globals())', '_': '', '___': '', '_sh': <module 'IPython.core.shadowns' from '/home/amankaushik/pyProjects/newsNotify/env/lib/python3.4/site-packages/IPython/core/shadowns.py'>, '_i': '', 'Out': {}, '__builtins__': <module 'builtins' (built-in)>, '_iii': '', '__package__': None, '_dh': ['/home/amankaushik/pyProjects/newsNotify'], '_ii': '', 'quit': <IPython.core.autocall.ZMQExitAutocall object at 0x7f2cc1ce1c50>}\n"
     ]
    }
   ],
   "source": [
    "print (globals())"
   ]
  },
  {
   "cell_type": "code",
   "execution_count": 9,
   "metadata": {
    "collapsed": false
   },
   "outputs": [
    {
     "name": "stdout",
     "output_type": "stream",
     "text": [
      "None\n",
      "This is the core.\n"
     ]
    }
   ],
   "source": [
    "def shell():\n",
    "    def core():\n",
    "        print ('This is the core.')\n",
    "    return core\n",
    "\n",
    "x = shell()\n",
    "print (x.__closure__)\n",
    "x()"
   ]
  },
  {
   "cell_type": "code",
   "execution_count": 13,
   "metadata": {
    "collapsed": false,
    "scrolled": true
   },
   "outputs": [
    {
     "name": "stdout",
     "output_type": "stream",
     "text": [
      "(<cell at 0x7f2cc2280be8: int object at 0x9f4260>,)\n",
      "1\n",
      "(<cell at 0x7f2cc2280eb8: int object at 0x9f4260>,)\n",
      "1\n"
     ]
    }
   ],
   "source": [
    "def shell(q):\n",
    "    x = q\n",
    "    def core():\n",
    "        print (x)\n",
    "    return core\n",
    "\n",
    "y = shell(1)\n",
    "print (y.__closure__)\n",
    "y()\n",
    "z = shell(1)\n",
    "print (z.__closure__)\n",
    "z()"
   ]
  },
  {
   "cell_type": "code",
   "execution_count": null,
   "metadata": {
    "collapsed": true
   },
   "outputs": [],
   "source": []
  }
 ],
 "metadata": {
  "kernelspec": {
   "display_name": "Python 3",
   "language": "python",
   "name": "python3"
  },
  "language_info": {
   "codemirror_mode": {
    "name": "ipython",
    "version": 3
   },
   "file_extension": ".py",
   "mimetype": "text/x-python",
   "name": "python",
   "nbconvert_exporter": "python",
   "pygments_lexer": "ipython3",
   "version": "3.4.3+"
  }
 },
 "nbformat": 4,
 "nbformat_minor": 0
}
